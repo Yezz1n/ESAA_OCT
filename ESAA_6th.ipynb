{
  "nbformat": 4,
  "nbformat_minor": 0,
  "metadata": {
    "colab": {
      "provenance": [],
      "collapsed_sections": [],
      "authorship_tag": "ABX9TyP5YtJl4I+gkdBrYXe7fdZh",
      "include_colab_link": true
    },
    "kernelspec": {
      "name": "python3",
      "display_name": "Python 3"
    },
    "language_info": {
      "name": "python"
    }
  },
  "cells": [
    {
      "cell_type": "markdown",
      "metadata": {
        "id": "view-in-github",
        "colab_type": "text"
      },
      "source": [
        "<a href=\"https://colab.research.google.com/github/Yezz1n/ESAA_OCT/blob/main/ESAA_6th.ipynb\" target=\"_parent\"><img src=\"https://colab.research.google.com/assets/colab-badge.svg\" alt=\"Open In Colab\"/></a>"
      ]
    },
    {
      "cell_type": "markdown",
      "source": [
        "#datetime  오브젝트\n",
        "\n",
        ":날짜와 시간을 처리하는 등의 다양한 기능을 제공하는 파이썬 라입러리\n",
        "\n",
        "- date오브젝트:날짜처리\n",
        "\n",
        "- time오브젝트:시간처리\n",
        "\n",
        "- datetime오브젝트:시간과 날짜 모두 처리\n",
        " - 시간 계산이 가능"
      ],
      "metadata": {
        "id": "3jTFkI1B4bsS"
      }
    },
    {
      "cell_type": "code",
      "source": [
        "import pandas as pd\n",
        "from datetime import datetime\n",
        "\n",
        "#현재 시간 출력하기\n",
        "\n",
        "now1=datetime.now()\n",
        "print(now1)\n",
        "\n",
        "\n",
        "now2=datetime.today()\n",
        "print(now2)"
      ],
      "metadata": {
        "colab": {
          "base_uri": "https://localhost:8080/"
        },
        "id": "PwtLZZWT5AD8",
        "outputId": "82e78795-5fdb-45e8-82cf-fbee464317c2"
      },
      "execution_count": 5,
      "outputs": [
        {
          "output_type": "stream",
          "name": "stdout",
          "text": [
            "2022-10-08 03:06:49.160553\n",
            "2022-10-08 03:06:49.160868\n"
          ]
        }
      ]
    },
    {
      "cell_type": "code",
      "source": [
        "#시간 직접 입력하여 인자로 전달\n",
        "t1=datetime.now()\n",
        "t2=datetime(1970,1,1)\n",
        "t3=datetime(1970,12,12,13,24,34)\n",
        "print(t1);print(t2);print(t3)\n",
        "\n",
        "\n",
        "#now메서드는 밀리초 단위까지 구한다"
      ],
      "metadata": {
        "colab": {
          "base_uri": "https://localhost:8080/"
        },
        "id": "-nIsJOxY5lK4",
        "outputId": "ad49d154-d7a5-4e23-b3f7-786f4be2e820"
      },
      "execution_count": 6,
      "outputs": [
        {
          "output_type": "stream",
          "name": "stdout",
          "text": [
            "2022-10-08 03:06:49.343059\n",
            "1970-01-01 00:00:00\n",
            "1970-12-12 13:24:34\n"
          ]
        }
      ]
    },
    {
      "cell_type": "code",
      "source": [
        "diff1=t1-t2\n",
        "print(diff1)\n",
        "print(type(diff1))\n",
        "\n",
        "\n",
        "diff2=t2-t1\n",
        "print(diff2)\n",
        "print(type(diff2))"
      ],
      "metadata": {
        "colab": {
          "base_uri": "https://localhost:8080/"
        },
        "id": "nhYlIOIt59et",
        "outputId": "ff81a156-2c31-4303-8184-45c55c44262c"
      },
      "execution_count": 7,
      "outputs": [
        {
          "output_type": "stream",
          "name": "stdout",
          "text": [
            "19273 days, 3:06:49.343059\n",
            "<class 'datetime.timedelta'>\n",
            "-19274 days, 20:53:10.656941\n",
            "<class 'datetime.timedelta'>\n"
          ]
        }
      ]
    },
    {
      "cell_type": "code",
      "source": [
        "#테슬라 주식 데이터로 시간 계산하기(!붙여서 불러온다)\n",
        "!pip install pandas-datareader\n",
        "\n"
      ],
      "metadata": {
        "colab": {
          "base_uri": "https://localhost:8080/"
        },
        "id": "HzFkwLX46N9M",
        "outputId": "0836dd1b-5576-4905-8ef2-86caa0d2f18a"
      },
      "execution_count": 8,
      "outputs": [
        {
          "output_type": "stream",
          "name": "stdout",
          "text": [
            "Looking in indexes: https://pypi.org/simple, https://us-python.pkg.dev/colab-wheels/public/simple/\n",
            "Requirement already satisfied: pandas-datareader in /usr/local/lib/python3.7/dist-packages (0.9.0)\n",
            "Requirement already satisfied: requests>=2.19.0 in /usr/local/lib/python3.7/dist-packages (from pandas-datareader) (2.23.0)\n",
            "Requirement already satisfied: lxml in /usr/local/lib/python3.7/dist-packages (from pandas-datareader) (4.9.1)\n",
            "Requirement already satisfied: pandas>=0.23 in /usr/local/lib/python3.7/dist-packages (from pandas-datareader) (1.3.5)\n",
            "Requirement already satisfied: numpy>=1.17.3 in /usr/local/lib/python3.7/dist-packages (from pandas>=0.23->pandas-datareader) (1.21.6)\n",
            "Requirement already satisfied: python-dateutil>=2.7.3 in /usr/local/lib/python3.7/dist-packages (from pandas>=0.23->pandas-datareader) (2.8.2)\n",
            "Requirement already satisfied: pytz>=2017.3 in /usr/local/lib/python3.7/dist-packages (from pandas>=0.23->pandas-datareader) (2022.4)\n",
            "Requirement already satisfied: six>=1.5 in /usr/local/lib/python3.7/dist-packages (from python-dateutil>=2.7.3->pandas>=0.23->pandas-datareader) (1.15.0)\n",
            "Requirement already satisfied: certifi>=2017.4.17 in /usr/local/lib/python3.7/dist-packages (from requests>=2.19.0->pandas-datareader) (2022.9.24)\n",
            "Requirement already satisfied: urllib3!=1.25.0,!=1.25.1,<1.26,>=1.21.1 in /usr/local/lib/python3.7/dist-packages (from requests>=2.19.0->pandas-datareader) (1.24.3)\n",
            "Requirement already satisfied: chardet<4,>=3.0.2 in /usr/local/lib/python3.7/dist-packages (from requests>=2.19.0->pandas-datareader) (3.0.4)\n",
            "Requirement already satisfied: idna<3,>=2.5 in /usr/local/lib/python3.7/dist-packages (from requests>=2.19.0->pandas-datareader) (2.10)\n"
          ]
        }
      ]
    },
    {
      "cell_type": "code",
      "source": [
        "#get_data_annual 메서드에 TSLA라는 문자열 전달해 주식 데이터 저장하기\n",
        "pd.core.common.is_list_like=pd.api.types.is_list_like\n",
        "import pandas_datareader as pdr\n",
        "\n",
        "\n",
        "#tesla에 데이터 프레임이 저장\n",
        "tesla = pdr.get_data_quandl('TSLA', api_key = 'tp3x47sKCu1s3NJpeJ8H')\n",
        "\n",
        "#tesla에 저장된 데이터프레임을 파일로 저장\n",
        "tesla.to_csv('/content/sample_data/tesla_stock_quandl.csv')\n"
      ],
      "metadata": {
        "id": "bdch6veI7SXo"
      },
      "execution_count": 9,
      "outputs": []
    },
    {
      "cell_type": "code",
      "source": [
        "#tesla 데이터프레임의 Date열은 문자열로 저장되어 있어 datetime 오브젝트로 자료형 변환해야  시간계산 가능\n",
        "print(tesla.head())\n",
        "\n",
        "#Date열을 Datetime으로 변환하기->read_csv메서드로 데이터 집합을 불러올 때 parse_dates인자에 Date열을 전달\n",
        "tesla=pd.read_csv('/content/sample_data/tesla_stock_quandl.csv',parse_dates=[0])\n",
        "print(tesla.info())"
      ],
      "metadata": {
        "colab": {
          "base_uri": "https://localhost:8080/"
        },
        "id": "MR2TGinq9KSm",
        "outputId": "533e250c-09b2-4e6d-bdde-ee4e225231c3"
      },
      "execution_count": 10,
      "outputs": [
        {
          "output_type": "stream",
          "name": "stdout",
          "text": [
            "              Open    High     Low   Close      Volume  ExDividend  \\\n",
            "Date                                                                 \n",
            "2018-03-27  304.00  304.27  277.18  279.18  13696168.0         0.0   \n",
            "2018-03-26  307.34  307.59  291.36  304.18   8324639.0         0.0   \n",
            "2018-03-23  311.25  311.61  300.45  301.54   6600538.0         0.0   \n",
            "2018-03-22  313.89  318.82  308.18  309.10   4914307.0         0.0   \n",
            "2018-03-21  310.25  322.44  310.19  316.53   5927881.0         0.0   \n",
            "\n",
            "            SplitRatio  AdjOpen  AdjHigh  AdjLow  AdjClose   AdjVolume  \n",
            "Date                                                                    \n",
            "2018-03-27         1.0   304.00   304.27  277.18    279.18  13696168.0  \n",
            "2018-03-26         1.0   307.34   307.59  291.36    304.18   8324639.0  \n",
            "2018-03-23         1.0   311.25   311.61  300.45    301.54   6600538.0  \n",
            "2018-03-22         1.0   313.89   318.82  308.18    309.10   4914307.0  \n",
            "2018-03-21         1.0   310.25   322.44  310.19    316.53   5927881.0  \n",
            "<class 'pandas.core.frame.DataFrame'>\n",
            "RangeIndex: 116 entries, 0 to 115\n",
            "Data columns (total 13 columns):\n",
            " #   Column      Non-Null Count  Dtype         \n",
            "---  ------      --------------  -----         \n",
            " 0   Date        116 non-null    datetime64[ns]\n",
            " 1   Open        116 non-null    float64       \n",
            " 2   High        116 non-null    float64       \n",
            " 3   Low         116 non-null    float64       \n",
            " 4   Close       116 non-null    float64       \n",
            " 5   Volume      116 non-null    float64       \n",
            " 6   ExDividend  116 non-null    float64       \n",
            " 7   SplitRatio  116 non-null    float64       \n",
            " 8   AdjOpen     116 non-null    float64       \n",
            " 9   AdjHigh     116 non-null    float64       \n",
            " 10  AdjLow      116 non-null    float64       \n",
            " 11  AdjClose    116 non-null    float64       \n",
            " 12  AdjVolume   116 non-null    float64       \n",
            "dtypes: datetime64[ns](1), float64(12)\n",
            "memory usage: 11.9 KB\n",
            "None\n"
          ]
        }
      ]
    },
    {
      "cell_type": "code",
      "source": [
        "tesla.head()"
      ],
      "metadata": {
        "colab": {
          "base_uri": "https://localhost:8080/",
          "height": 206
        },
        "id": "95M9djMaJ1Bg",
        "outputId": "ea4b365c-849d-4e47-8593-2838d11de98f"
      },
      "execution_count": 11,
      "outputs": [
        {
          "output_type": "execute_result",
          "data": {
            "text/plain": [
              "        Date    Open    High     Low   Close      Volume  ExDividend  \\\n",
              "0 2018-03-27  304.00  304.27  277.18  279.18  13696168.0         0.0   \n",
              "1 2018-03-26  307.34  307.59  291.36  304.18   8324639.0         0.0   \n",
              "2 2018-03-23  311.25  311.61  300.45  301.54   6600538.0         0.0   \n",
              "3 2018-03-22  313.89  318.82  308.18  309.10   4914307.0         0.0   \n",
              "4 2018-03-21  310.25  322.44  310.19  316.53   5927881.0         0.0   \n",
              "\n",
              "   SplitRatio  AdjOpen  AdjHigh  AdjLow  AdjClose   AdjVolume  \n",
              "0         1.0   304.00   304.27  277.18    279.18  13696168.0  \n",
              "1         1.0   307.34   307.59  291.36    304.18   8324639.0  \n",
              "2         1.0   311.25   311.61  300.45    301.54   6600538.0  \n",
              "3         1.0   313.89   318.82  308.18    309.10   4914307.0  \n",
              "4         1.0   310.25   322.44  310.19    316.53   5927881.0  "
            ],
            "text/html": [
              "\n",
              "  <div id=\"df-d818c44d-74d3-4a5a-8670-e812259d05fc\">\n",
              "    <div class=\"colab-df-container\">\n",
              "      <div>\n",
              "<style scoped>\n",
              "    .dataframe tbody tr th:only-of-type {\n",
              "        vertical-align: middle;\n",
              "    }\n",
              "\n",
              "    .dataframe tbody tr th {\n",
              "        vertical-align: top;\n",
              "    }\n",
              "\n",
              "    .dataframe thead th {\n",
              "        text-align: right;\n",
              "    }\n",
              "</style>\n",
              "<table border=\"1\" class=\"dataframe\">\n",
              "  <thead>\n",
              "    <tr style=\"text-align: right;\">\n",
              "      <th></th>\n",
              "      <th>Date</th>\n",
              "      <th>Open</th>\n",
              "      <th>High</th>\n",
              "      <th>Low</th>\n",
              "      <th>Close</th>\n",
              "      <th>Volume</th>\n",
              "      <th>ExDividend</th>\n",
              "      <th>SplitRatio</th>\n",
              "      <th>AdjOpen</th>\n",
              "      <th>AdjHigh</th>\n",
              "      <th>AdjLow</th>\n",
              "      <th>AdjClose</th>\n",
              "      <th>AdjVolume</th>\n",
              "    </tr>\n",
              "  </thead>\n",
              "  <tbody>\n",
              "    <tr>\n",
              "      <th>0</th>\n",
              "      <td>2018-03-27</td>\n",
              "      <td>304.00</td>\n",
              "      <td>304.27</td>\n",
              "      <td>277.18</td>\n",
              "      <td>279.18</td>\n",
              "      <td>13696168.0</td>\n",
              "      <td>0.0</td>\n",
              "      <td>1.0</td>\n",
              "      <td>304.00</td>\n",
              "      <td>304.27</td>\n",
              "      <td>277.18</td>\n",
              "      <td>279.18</td>\n",
              "      <td>13696168.0</td>\n",
              "    </tr>\n",
              "    <tr>\n",
              "      <th>1</th>\n",
              "      <td>2018-03-26</td>\n",
              "      <td>307.34</td>\n",
              "      <td>307.59</td>\n",
              "      <td>291.36</td>\n",
              "      <td>304.18</td>\n",
              "      <td>8324639.0</td>\n",
              "      <td>0.0</td>\n",
              "      <td>1.0</td>\n",
              "      <td>307.34</td>\n",
              "      <td>307.59</td>\n",
              "      <td>291.36</td>\n",
              "      <td>304.18</td>\n",
              "      <td>8324639.0</td>\n",
              "    </tr>\n",
              "    <tr>\n",
              "      <th>2</th>\n",
              "      <td>2018-03-23</td>\n",
              "      <td>311.25</td>\n",
              "      <td>311.61</td>\n",
              "      <td>300.45</td>\n",
              "      <td>301.54</td>\n",
              "      <td>6600538.0</td>\n",
              "      <td>0.0</td>\n",
              "      <td>1.0</td>\n",
              "      <td>311.25</td>\n",
              "      <td>311.61</td>\n",
              "      <td>300.45</td>\n",
              "      <td>301.54</td>\n",
              "      <td>6600538.0</td>\n",
              "    </tr>\n",
              "    <tr>\n",
              "      <th>3</th>\n",
              "      <td>2018-03-22</td>\n",
              "      <td>313.89</td>\n",
              "      <td>318.82</td>\n",
              "      <td>308.18</td>\n",
              "      <td>309.10</td>\n",
              "      <td>4914307.0</td>\n",
              "      <td>0.0</td>\n",
              "      <td>1.0</td>\n",
              "      <td>313.89</td>\n",
              "      <td>318.82</td>\n",
              "      <td>308.18</td>\n",
              "      <td>309.10</td>\n",
              "      <td>4914307.0</td>\n",
              "    </tr>\n",
              "    <tr>\n",
              "      <th>4</th>\n",
              "      <td>2018-03-21</td>\n",
              "      <td>310.25</td>\n",
              "      <td>322.44</td>\n",
              "      <td>310.19</td>\n",
              "      <td>316.53</td>\n",
              "      <td>5927881.0</td>\n",
              "      <td>0.0</td>\n",
              "      <td>1.0</td>\n",
              "      <td>310.25</td>\n",
              "      <td>322.44</td>\n",
              "      <td>310.19</td>\n",
              "      <td>316.53</td>\n",
              "      <td>5927881.0</td>\n",
              "    </tr>\n",
              "  </tbody>\n",
              "</table>\n",
              "</div>\n",
              "      <button class=\"colab-df-convert\" onclick=\"convertToInteractive('df-d818c44d-74d3-4a5a-8670-e812259d05fc')\"\n",
              "              title=\"Convert this dataframe to an interactive table.\"\n",
              "              style=\"display:none;\">\n",
              "        \n",
              "  <svg xmlns=\"http://www.w3.org/2000/svg\" height=\"24px\"viewBox=\"0 0 24 24\"\n",
              "       width=\"24px\">\n",
              "    <path d=\"M0 0h24v24H0V0z\" fill=\"none\"/>\n",
              "    <path d=\"M18.56 5.44l.94 2.06.94-2.06 2.06-.94-2.06-.94-.94-2.06-.94 2.06-2.06.94zm-11 1L8.5 8.5l.94-2.06 2.06-.94-2.06-.94L8.5 2.5l-.94 2.06-2.06.94zm10 10l.94 2.06.94-2.06 2.06-.94-2.06-.94-.94-2.06-.94 2.06-2.06.94z\"/><path d=\"M17.41 7.96l-1.37-1.37c-.4-.4-.92-.59-1.43-.59-.52 0-1.04.2-1.43.59L10.3 9.45l-7.72 7.72c-.78.78-.78 2.05 0 2.83L4 21.41c.39.39.9.59 1.41.59.51 0 1.02-.2 1.41-.59l7.78-7.78 2.81-2.81c.8-.78.8-2.07 0-2.86zM5.41 20L4 18.59l7.72-7.72 1.47 1.35L5.41 20z\"/>\n",
              "  </svg>\n",
              "      </button>\n",
              "      \n",
              "  <style>\n",
              "    .colab-df-container {\n",
              "      display:flex;\n",
              "      flex-wrap:wrap;\n",
              "      gap: 12px;\n",
              "    }\n",
              "\n",
              "    .colab-df-convert {\n",
              "      background-color: #E8F0FE;\n",
              "      border: none;\n",
              "      border-radius: 50%;\n",
              "      cursor: pointer;\n",
              "      display: none;\n",
              "      fill: #1967D2;\n",
              "      height: 32px;\n",
              "      padding: 0 0 0 0;\n",
              "      width: 32px;\n",
              "    }\n",
              "\n",
              "    .colab-df-convert:hover {\n",
              "      background-color: #E2EBFA;\n",
              "      box-shadow: 0px 1px 2px rgba(60, 64, 67, 0.3), 0px 1px 3px 1px rgba(60, 64, 67, 0.15);\n",
              "      fill: #174EA6;\n",
              "    }\n",
              "\n",
              "    [theme=dark] .colab-df-convert {\n",
              "      background-color: #3B4455;\n",
              "      fill: #D2E3FC;\n",
              "    }\n",
              "\n",
              "    [theme=dark] .colab-df-convert:hover {\n",
              "      background-color: #434B5C;\n",
              "      box-shadow: 0px 1px 3px 1px rgba(0, 0, 0, 0.15);\n",
              "      filter: drop-shadow(0px 1px 2px rgba(0, 0, 0, 0.3));\n",
              "      fill: #FFFFFF;\n",
              "    }\n",
              "  </style>\n",
              "\n",
              "      <script>\n",
              "        const buttonEl =\n",
              "          document.querySelector('#df-d818c44d-74d3-4a5a-8670-e812259d05fc button.colab-df-convert');\n",
              "        buttonEl.style.display =\n",
              "          google.colab.kernel.accessAllowed ? 'block' : 'none';\n",
              "\n",
              "        async function convertToInteractive(key) {\n",
              "          const element = document.querySelector('#df-d818c44d-74d3-4a5a-8670-e812259d05fc');\n",
              "          const dataTable =\n",
              "            await google.colab.kernel.invokeFunction('convertToInteractive',\n",
              "                                                     [key], {});\n",
              "          if (!dataTable) return;\n",
              "\n",
              "          const docLinkHtml = 'Like what you see? Visit the ' +\n",
              "            '<a target=\"_blank\" href=https://colab.research.google.com/notebooks/data_table.ipynb>data table notebook</a>'\n",
              "            + ' to learn more about interactive tables.';\n",
              "          element.innerHTML = '';\n",
              "          dataTable['output_type'] = 'display_data';\n",
              "          await google.colab.output.renderOutput(dataTable, element);\n",
              "          const docLink = document.createElement('div');\n",
              "          docLink.innerHTML = docLinkHtml;\n",
              "          element.appendChild(docLink);\n",
              "        }\n",
              "      </script>\n",
              "    </div>\n",
              "  </div>\n",
              "  "
            ]
          },
          "metadata": {},
          "execution_count": 11
        }
      ]
    },
    {
      "cell_type": "code",
      "source": [
        "#Date자료형이 datetime오브젝트로 변환됨->dt접근자 이용\n",
        "print(tesla.loc[(tesla.Date.dt.year == 2017) & (tesla.Date.dt.month == 10)])\n"
      ],
      "metadata": {
        "colab": {
          "base_uri": "https://localhost:8080/"
        },
        "id": "AjP113EtJZsy",
        "outputId": "cffb171f-0f16-415b-9e57-ae2decaeb99d"
      },
      "execution_count": 12,
      "outputs": [
        {
          "output_type": "stream",
          "name": "stdout",
          "text": [
            "          Date    Open      High       Low   Close     Volume  ExDividend  \\\n",
            "99  2017-10-31  320.23  331.9500  320.1800  331.53  5532647.0         0.0   \n",
            "100 2017-10-30  319.18  323.7800  317.2500  320.08  4236029.0         0.0   \n",
            "101 2017-10-27  319.75  324.5900  316.6600  320.87  6942493.0         0.0   \n",
            "102 2017-10-26  327.78  330.2300  323.2000  326.17  4980316.0         0.0   \n",
            "103 2017-10-25  336.70  337.5000  323.5600  325.84  8547764.0         0.0   \n",
            "104 2017-10-24  338.80  342.8000  336.1600  337.34  4463807.0         0.0   \n",
            "105 2017-10-23  349.88  349.9500  336.2500  337.02  5715817.0         0.0   \n",
            "106 2017-10-20  352.69  354.5500  344.3400  345.10  4888221.0         0.0   \n",
            "107 2017-10-19  355.56  357.1465  348.2000  351.81  5032884.0         0.0   \n",
            "108 2017-10-18  355.97  363.0000  354.1300  359.65  4898808.0         0.0   \n",
            "109 2017-10-17  350.91  356.2200  350.0700  355.75  3280670.0         0.0   \n",
            "110 2017-10-16  353.76  354.4800  347.1600  350.60  5353262.0         0.0   \n",
            "111 2017-10-13  356.98  358.4900  353.6800  355.57  3528413.0         0.0   \n",
            "112 2017-10-12  352.95  359.7800  352.6400  355.68  4047318.0         0.0   \n",
            "113 2017-10-11  353.89  357.6000  351.1500  354.60  4476769.0         0.0   \n",
            "114 2017-10-10  346.80  355.6300  345.5305  355.59  6914972.0         0.0   \n",
            "115 2017-10-09  349.65  351.7500  342.6700  342.94  7406324.0         0.0   \n",
            "\n",
            "     SplitRatio  AdjOpen   AdjHigh    AdjLow  AdjClose  AdjVolume  \n",
            "99          1.0   320.23  331.9500  320.1800    331.53  5532647.0  \n",
            "100         1.0   319.18  323.7800  317.2500    320.08  4236029.0  \n",
            "101         1.0   319.75  324.5900  316.6600    320.87  6942493.0  \n",
            "102         1.0   327.78  330.2300  323.2000    326.17  4980316.0  \n",
            "103         1.0   336.70  337.5000  323.5600    325.84  8547764.0  \n",
            "104         1.0   338.80  342.8000  336.1600    337.34  4463807.0  \n",
            "105         1.0   349.88  349.9500  336.2500    337.02  5715817.0  \n",
            "106         1.0   352.69  354.5500  344.3400    345.10  4888221.0  \n",
            "107         1.0   355.56  357.1465  348.2000    351.81  5032884.0  \n",
            "108         1.0   355.97  363.0000  354.1300    359.65  4898808.0  \n",
            "109         1.0   350.91  356.2200  350.0700    355.75  3280670.0  \n",
            "110         1.0   353.76  354.4800  347.1600    350.60  5353262.0  \n",
            "111         1.0   356.98  358.4900  353.6800    355.57  3528413.0  \n",
            "112         1.0   352.95  359.7800  352.6400    355.68  4047318.0  \n",
            "113         1.0   353.89  357.6000  351.1500    354.60  4476769.0  \n",
            "114         1.0   346.80  355.6300  345.5305    355.59  6914972.0  \n",
            "115         1.0   349.65  351.7500  342.6700    342.94  7406324.0  \n"
          ]
        }
      ]
    },
    {
      "cell_type": "code",
      "source": [
        "#datetime오브젝트를 인덱스로 설정해 데이터를 추출하기\n",
        "tesla.index=tesla['Date']\n",
        "print(tesla.index)"
      ],
      "metadata": {
        "colab": {
          "base_uri": "https://localhost:8080/"
        },
        "id": "YdC_VjJ5KGdq",
        "outputId": "5e5fccff-77ef-442b-cb92-dd97c54c6293"
      },
      "execution_count": 13,
      "outputs": [
        {
          "output_type": "stream",
          "name": "stdout",
          "text": [
            "DatetimeIndex(['2018-03-27', '2018-03-26', '2018-03-23', '2018-03-22',\n",
            "               '2018-03-21', '2018-03-20', '2018-03-19', '2018-03-16',\n",
            "               '2018-03-15', '2018-03-14',\n",
            "               ...\n",
            "               '2017-10-20', '2017-10-19', '2017-10-18', '2017-10-17',\n",
            "               '2017-10-16', '2017-10-13', '2017-10-12', '2017-10-11',\n",
            "               '2017-10-10', '2017-10-09'],\n",
            "              dtype='datetime64[ns]', name='Date', length=116, freq=None)\n"
          ]
        }
      ]
    },
    {
      "cell_type": "code",
      "source": [
        "#인덱스 활용해 2017년 데이터 추출\n",
        "print(tesla['2017'].iloc[:5,:5])\n",
        "\n",
        "#2017년 10월 추출\n",
        "print(tesla['2017-10'].iloc[:,:5])"
      ],
      "metadata": {
        "colab": {
          "base_uri": "https://localhost:8080/"
        },
        "id": "_KUxiFfIKTRh",
        "outputId": "c03c4698-83ad-46da-858b-8033a8650ec1"
      },
      "execution_count": 14,
      "outputs": [
        {
          "output_type": "stream",
          "name": "stdout",
          "text": [
            "                 Date    Open      High     Low   Close\n",
            "Date                                                   \n",
            "2017-12-29 2017-12-29  316.18  316.4100  310.00  311.35\n",
            "2017-12-28 2017-12-28  311.75  315.8200  309.54  315.36\n",
            "2017-12-27 2017-12-27  316.00  317.6800  310.75  311.64\n",
            "2017-12-26 2017-12-26  323.83  323.9400  316.58  317.29\n",
            "2017-12-22 2017-12-22  329.51  330.9214  324.82  325.20\n",
            "                 Date    Open      High       Low   Close\n",
            "Date                                                     \n",
            "2017-10-31 2017-10-31  320.23  331.9500  320.1800  331.53\n",
            "2017-10-30 2017-10-30  319.18  323.7800  317.2500  320.08\n",
            "2017-10-27 2017-10-27  319.75  324.5900  316.6600  320.87\n",
            "2017-10-26 2017-10-26  327.78  330.2300  323.2000  326.17\n",
            "2017-10-25 2017-10-25  336.70  337.5000  323.5600  325.84\n",
            "2017-10-24 2017-10-24  338.80  342.8000  336.1600  337.34\n",
            "2017-10-23 2017-10-23  349.88  349.9500  336.2500  337.02\n",
            "2017-10-20 2017-10-20  352.69  354.5500  344.3400  345.10\n",
            "2017-10-19 2017-10-19  355.56  357.1465  348.2000  351.81\n",
            "2017-10-18 2017-10-18  355.97  363.0000  354.1300  359.65\n",
            "2017-10-17 2017-10-17  350.91  356.2200  350.0700  355.75\n",
            "2017-10-16 2017-10-16  353.76  354.4800  347.1600  350.60\n",
            "2017-10-13 2017-10-13  356.98  358.4900  353.6800  355.57\n",
            "2017-10-12 2017-10-12  352.95  359.7800  352.6400  355.68\n",
            "2017-10-11 2017-10-11  353.89  357.6000  351.1500  354.60\n",
            "2017-10-10 2017-10-10  346.80  355.6300  345.5305  355.59\n",
            "2017-10-09 2017-10-09  349.65  351.7500  342.6700  342.94\n"
          ]
        },
        {
          "output_type": "stream",
          "name": "stderr",
          "text": [
            "/usr/local/lib/python3.7/dist-packages/ipykernel_launcher.py:2: FutureWarning: Indexing a DataFrame with a datetimelike index using a single string to slice the rows, like `frame[string]`, is deprecated and will be removed in a future version. Use `frame.loc[string]` instead.\n",
            "  \n",
            "/usr/local/lib/python3.7/dist-packages/ipykernel_launcher.py:5: FutureWarning: Indexing a DataFrame with a datetimelike index using a single string to slice the rows, like `frame[string]`, is deprecated and will be removed in a future version. Use `frame.loc[string]` instead.\n",
            "  \"\"\"\n"
          ]
        }
      ]
    },
    {
      "cell_type": "code",
      "source": [
        "#시간 간격을 인덱스로 지정해 데이터 추출하기\n",
        "#Date열에서 Date열의 최솟값을 빼면  데이터를 수집한 이후 시간 얼마나 흘렀는지 확인할 수 있다,\n",
        "\n",
        "tesla['ref_date']=tesla['Date']-tesla['Date'].min()\n",
        "print(tesla.head())"
      ],
      "metadata": {
        "colab": {
          "base_uri": "https://localhost:8080/"
        },
        "id": "Yc14kJirK7nm",
        "outputId": "332030d1-6eb3-414d-a722-fae904ba3855"
      },
      "execution_count": 15,
      "outputs": [
        {
          "output_type": "stream",
          "name": "stdout",
          "text": [
            "                 Date    Open    High     Low   Close      Volume  ExDividend  \\\n",
            "Date                                                                            \n",
            "2018-03-27 2018-03-27  304.00  304.27  277.18  279.18  13696168.0         0.0   \n",
            "2018-03-26 2018-03-26  307.34  307.59  291.36  304.18   8324639.0         0.0   \n",
            "2018-03-23 2018-03-23  311.25  311.61  300.45  301.54   6600538.0         0.0   \n",
            "2018-03-22 2018-03-22  313.89  318.82  308.18  309.10   4914307.0         0.0   \n",
            "2018-03-21 2018-03-21  310.25  322.44  310.19  316.53   5927881.0         0.0   \n",
            "\n",
            "            SplitRatio  AdjOpen  AdjHigh  AdjLow  AdjClose   AdjVolume  \\\n",
            "Date                                                                     \n",
            "2018-03-27         1.0   304.00   304.27  277.18    279.18  13696168.0   \n",
            "2018-03-26         1.0   307.34   307.59  291.36    304.18   8324639.0   \n",
            "2018-03-23         1.0   311.25   311.61  300.45    301.54   6600538.0   \n",
            "2018-03-22         1.0   313.89   318.82  308.18    309.10   4914307.0   \n",
            "2018-03-21         1.0   310.25   322.44  310.19    316.53   5927881.0   \n",
            "\n",
            "           ref_date  \n",
            "Date                 \n",
            "2018-03-27 169 days  \n",
            "2018-03-26 168 days  \n",
            "2018-03-23 165 days  \n",
            "2018-03-22 164 days  \n",
            "2018-03-21 163 days  \n"
          ]
        }
      ]
    },
    {
      "cell_type": "code",
      "source": [
        "#ref_date를 열로 지정\n",
        "tesla.index=tesla['ref_date']\n",
        "print(tesla.iloc[:5,:5])"
      ],
      "metadata": {
        "colab": {
          "base_uri": "https://localhost:8080/"
        },
        "id": "sHxeI2pyLTCz",
        "outputId": "ca69da52-2b2c-41d9-d252-b32b8ce73f17"
      },
      "execution_count": 16,
      "outputs": [
        {
          "output_type": "stream",
          "name": "stdout",
          "text": [
            "               Date    Open    High     Low   Close\n",
            "ref_date                                           \n",
            "169 days 2018-03-27  304.00  304.27  277.18  279.18\n",
            "168 days 2018-03-26  307.34  307.59  291.36  304.18\n",
            "165 days 2018-03-23  311.25  311.61  300.45  301.54\n",
            "164 days 2018-03-22  313.89  318.82  308.18  309.10\n",
            "163 days 2018-03-21  310.25  322.44  310.19  316.53\n"
          ]
        }
      ]
    },
    {
      "cell_type": "code",
      "source": [
        "#데이터 수집 이후 최초 5일의 데이터 추출\n",
        "print(tesla['5 days':].iloc[:5,:5])"
      ],
      "metadata": {
        "colab": {
          "base_uri": "https://localhost:8080/"
        },
        "id": "pctdDalrLcjX",
        "outputId": "5052765d-1519-4d0e-cb6d-b7e44986d0bf"
      },
      "execution_count": 17,
      "outputs": [
        {
          "output_type": "stream",
          "name": "stdout",
          "text": [
            "               Date    Open    High       Low   Close\n",
            "ref_date                                             \n",
            "4 days   2017-10-13  356.98  358.49  353.6800  355.57\n",
            "3 days   2017-10-12  352.95  359.78  352.6400  355.68\n",
            "2 days   2017-10-11  353.89  357.60  351.1500  354.60\n",
            "1 days   2017-10-10  346.80  355.63  345.5305  355.59\n",
            "0 days   2017-10-09  349.65  351.75  342.6700  342.94\n"
          ]
        }
      ]
    },
    {
      "cell_type": "markdown",
      "source": [
        "####시간 범위와 인덱스\n",
        "\n",
        "데이터를 수집 못한 날이 있을 수 있어 특정 일에 누락된 데이터 포함시킬 때는 임의로 시간범위를 생성하여 인덱스를 지정"
      ],
      "metadata": {
        "id": "dzEtzJ9tLptU"
      }
    },
    {
      "cell_type": "code",
      "source": [
        "\n",
        "from google.colab import files\n",
        "myfile = files.upload()"
      ],
      "metadata": {
        "colab": {
          "base_uri": "https://localhost:8080/",
          "height": 77
        },
        "id": "DjqX9QqMNBr4",
        "outputId": "457ba302-5877-4a41-ef8d-1bf14d2b5aec"
      },
      "execution_count": 18,
      "outputs": [
        {
          "output_type": "display_data",
          "data": {
            "text/plain": [
              "<IPython.core.display.HTML object>"
            ],
            "text/html": [
              "\n",
              "     <input type=\"file\" id=\"files-e33b7c64-254c-4f23-a940-ec5f07df24d9\" name=\"files[]\" multiple disabled\n",
              "        style=\"border:none\" />\n",
              "     <output id=\"result-e33b7c64-254c-4f23-a940-ec5f07df24d9\">\n",
              "      Upload widget is only available when the cell has been executed in the\n",
              "      current browser session. Please rerun this cell to enable.\n",
              "      </output>\n",
              "      <script>// Copyright 2017 Google LLC\n",
              "//\n",
              "// Licensed under the Apache License, Version 2.0 (the \"License\");\n",
              "// you may not use this file except in compliance with the License.\n",
              "// You may obtain a copy of the License at\n",
              "//\n",
              "//      http://www.apache.org/licenses/LICENSE-2.0\n",
              "//\n",
              "// Unless required by applicable law or agreed to in writing, software\n",
              "// distributed under the License is distributed on an \"AS IS\" BASIS,\n",
              "// WITHOUT WARRANTIES OR CONDITIONS OF ANY KIND, either express or implied.\n",
              "// See the License for the specific language governing permissions and\n",
              "// limitations under the License.\n",
              "\n",
              "/**\n",
              " * @fileoverview Helpers for google.colab Python module.\n",
              " */\n",
              "(function(scope) {\n",
              "function span(text, styleAttributes = {}) {\n",
              "  const element = document.createElement('span');\n",
              "  element.textContent = text;\n",
              "  for (const key of Object.keys(styleAttributes)) {\n",
              "    element.style[key] = styleAttributes[key];\n",
              "  }\n",
              "  return element;\n",
              "}\n",
              "\n",
              "// Max number of bytes which will be uploaded at a time.\n",
              "const MAX_PAYLOAD_SIZE = 100 * 1024;\n",
              "\n",
              "function _uploadFiles(inputId, outputId) {\n",
              "  const steps = uploadFilesStep(inputId, outputId);\n",
              "  const outputElement = document.getElementById(outputId);\n",
              "  // Cache steps on the outputElement to make it available for the next call\n",
              "  // to uploadFilesContinue from Python.\n",
              "  outputElement.steps = steps;\n",
              "\n",
              "  return _uploadFilesContinue(outputId);\n",
              "}\n",
              "\n",
              "// This is roughly an async generator (not supported in the browser yet),\n",
              "// where there are multiple asynchronous steps and the Python side is going\n",
              "// to poll for completion of each step.\n",
              "// This uses a Promise to block the python side on completion of each step,\n",
              "// then passes the result of the previous step as the input to the next step.\n",
              "function _uploadFilesContinue(outputId) {\n",
              "  const outputElement = document.getElementById(outputId);\n",
              "  const steps = outputElement.steps;\n",
              "\n",
              "  const next = steps.next(outputElement.lastPromiseValue);\n",
              "  return Promise.resolve(next.value.promise).then((value) => {\n",
              "    // Cache the last promise value to make it available to the next\n",
              "    // step of the generator.\n",
              "    outputElement.lastPromiseValue = value;\n",
              "    return next.value.response;\n",
              "  });\n",
              "}\n",
              "\n",
              "/**\n",
              " * Generator function which is called between each async step of the upload\n",
              " * process.\n",
              " * @param {string} inputId Element ID of the input file picker element.\n",
              " * @param {string} outputId Element ID of the output display.\n",
              " * @return {!Iterable<!Object>} Iterable of next steps.\n",
              " */\n",
              "function* uploadFilesStep(inputId, outputId) {\n",
              "  const inputElement = document.getElementById(inputId);\n",
              "  inputElement.disabled = false;\n",
              "\n",
              "  const outputElement = document.getElementById(outputId);\n",
              "  outputElement.innerHTML = '';\n",
              "\n",
              "  const pickedPromise = new Promise((resolve) => {\n",
              "    inputElement.addEventListener('change', (e) => {\n",
              "      resolve(e.target.files);\n",
              "    });\n",
              "  });\n",
              "\n",
              "  const cancel = document.createElement('button');\n",
              "  inputElement.parentElement.appendChild(cancel);\n",
              "  cancel.textContent = 'Cancel upload';\n",
              "  const cancelPromise = new Promise((resolve) => {\n",
              "    cancel.onclick = () => {\n",
              "      resolve(null);\n",
              "    };\n",
              "  });\n",
              "\n",
              "  // Wait for the user to pick the files.\n",
              "  const files = yield {\n",
              "    promise: Promise.race([pickedPromise, cancelPromise]),\n",
              "    response: {\n",
              "      action: 'starting',\n",
              "    }\n",
              "  };\n",
              "\n",
              "  cancel.remove();\n",
              "\n",
              "  // Disable the input element since further picks are not allowed.\n",
              "  inputElement.disabled = true;\n",
              "\n",
              "  if (!files) {\n",
              "    return {\n",
              "      response: {\n",
              "        action: 'complete',\n",
              "      }\n",
              "    };\n",
              "  }\n",
              "\n",
              "  for (const file of files) {\n",
              "    const li = document.createElement('li');\n",
              "    li.append(span(file.name, {fontWeight: 'bold'}));\n",
              "    li.append(span(\n",
              "        `(${file.type || 'n/a'}) - ${file.size} bytes, ` +\n",
              "        `last modified: ${\n",
              "            file.lastModifiedDate ? file.lastModifiedDate.toLocaleDateString() :\n",
              "                                    'n/a'} - `));\n",
              "    const percent = span('0% done');\n",
              "    li.appendChild(percent);\n",
              "\n",
              "    outputElement.appendChild(li);\n",
              "\n",
              "    const fileDataPromise = new Promise((resolve) => {\n",
              "      const reader = new FileReader();\n",
              "      reader.onload = (e) => {\n",
              "        resolve(e.target.result);\n",
              "      };\n",
              "      reader.readAsArrayBuffer(file);\n",
              "    });\n",
              "    // Wait for the data to be ready.\n",
              "    let fileData = yield {\n",
              "      promise: fileDataPromise,\n",
              "      response: {\n",
              "        action: 'continue',\n",
              "      }\n",
              "    };\n",
              "\n",
              "    // Use a chunked sending to avoid message size limits. See b/62115660.\n",
              "    let position = 0;\n",
              "    do {\n",
              "      const length = Math.min(fileData.byteLength - position, MAX_PAYLOAD_SIZE);\n",
              "      const chunk = new Uint8Array(fileData, position, length);\n",
              "      position += length;\n",
              "\n",
              "      const base64 = btoa(String.fromCharCode.apply(null, chunk));\n",
              "      yield {\n",
              "        response: {\n",
              "          action: 'append',\n",
              "          file: file.name,\n",
              "          data: base64,\n",
              "        },\n",
              "      };\n",
              "\n",
              "      let percentDone = fileData.byteLength === 0 ?\n",
              "          100 :\n",
              "          Math.round((position / fileData.byteLength) * 100);\n",
              "      percent.textContent = `${percentDone}% done`;\n",
              "\n",
              "    } while (position < fileData.byteLength);\n",
              "  }\n",
              "\n",
              "  // All done.\n",
              "  yield {\n",
              "    response: {\n",
              "      action: 'complete',\n",
              "    }\n",
              "  };\n",
              "}\n",
              "\n",
              "scope.google = scope.google || {};\n",
              "scope.google.colab = scope.google.colab || {};\n",
              "scope.google.colab._files = {\n",
              "  _uploadFiles,\n",
              "  _uploadFilesContinue,\n",
              "};\n",
              "})(self);\n",
              "</script> "
            ]
          },
          "metadata": {}
        },
        {
          "output_type": "stream",
          "name": "stdout",
          "text": [
            "Saving country_timeseries.csv to country_timeseries (1).csv\n"
          ]
        }
      ]
    },
    {
      "cell_type": "code",
      "source": [
        "ebola = pd.read_csv('country_timeseries.csv', parse_dates=[0])\n",
        "\n",
        "print(ebola.iloc[:5,:5])"
      ],
      "metadata": {
        "colab": {
          "base_uri": "https://localhost:8080/"
        },
        "id": "jAn69dA-LynK",
        "outputId": "7e9514fc-1633-4efe-b280-e80502e57938"
      },
      "execution_count": 19,
      "outputs": [
        {
          "output_type": "stream",
          "name": "stdout",
          "text": [
            "        Date  Day  Cases_Guinea  Cases_Liberia  Cases_SierraLeone\n",
            "0 2015-01-05  289        2776.0            NaN            10030.0\n",
            "1 2015-01-04  288        2775.0            NaN             9780.0\n",
            "2 2015-01-03  287        2769.0         8166.0             9722.0\n",
            "3 2015-01-02  286           NaN         8157.0                NaN\n",
            "4 2014-12-31  284        2730.0         8115.0             9633.0\n"
          ]
        }
      ]
    },
    {
      "cell_type": "code",
      "source": [
        "#뒤쪽 누락 데이터 확인\n",
        "print(ebola.iloc[-5:,:5])"
      ],
      "metadata": {
        "id": "YVLZlzhtQMOk",
        "colab": {
          "base_uri": "https://localhost:8080/"
        },
        "outputId": "bf12c506-b382-43c5-e2b4-dd01147b096c"
      },
      "execution_count": 20,
      "outputs": [
        {
          "output_type": "stream",
          "name": "stdout",
          "text": [
            "          Date  Day  Cases_Guinea  Cases_Liberia  Cases_SierraLeone\n",
            "117 2014-03-27    5         103.0            8.0                6.0\n",
            "118 2014-03-26    4          86.0            NaN                NaN\n",
            "119 2014-03-25    3          86.0            NaN                NaN\n",
            "120 2014-03-24    2          86.0            NaN                NaN\n",
            "121 2014-03-22    0          49.0            NaN                NaN\n"
          ]
        }
      ]
    },
    {
      "cell_type": "code",
      "source": [
        "from pandas.io.stata import DatetimeIndex\n",
        "#date_range메서드 사용하여 특정 기간 사이 시간 인덱스 생성\n",
        "head_range=pd.date_range(start='2014-12-31',end='2015-01-05')\n",
        "print(head_range)\n"
      ],
      "metadata": {
        "id": "bDb94kZSQVlf",
        "colab": {
          "base_uri": "https://localhost:8080/"
        },
        "outputId": "e5578349-6c53-4b06-906d-97e71388846e"
      },
      "execution_count": 22,
      "outputs": [
        {
          "output_type": "stream",
          "name": "stdout",
          "text": [
            "DatetimeIndex(['2014-12-31', '2015-01-01', '2015-01-02', '2015-01-03',\n",
            "               '2015-01-04', '2015-01-05'],\n",
            "              dtype='datetime64[ns]', freq='D')\n"
          ]
        }
      ]
    },
    {
      "cell_type": "code",
      "source": [
        "#원본 데이터 손상 방지 ebola 데이터프레임 앞쪽 5개 데이터 추출하여 새로운 데이터프레임 생성\n",
        "#반드시 Date열을 인덱스로 지정한 다음 이전 과정에서 생성한 시간 범위를 인덱스로 지정\n",
        "ebola_5=ebola.head()\n",
        "ebola_5.index=ebola_5['Date']\n",
        "ebola_5.reindex(head_range)\n",
        "print(ebola_5.iloc[:5,:5])"
      ],
      "metadata": {
        "id": "BQA0Uob5RFp6",
        "colab": {
          "base_uri": "https://localhost:8080/"
        },
        "outputId": "cba6a468-82c2-4c2d-9186-a63c0b5c6b74"
      },
      "execution_count": 23,
      "outputs": [
        {
          "output_type": "stream",
          "name": "stdout",
          "text": [
            "                 Date  Day  Cases_Guinea  Cases_Liberia  Cases_SierraLeone\n",
            "Date                                                                      \n",
            "2015-01-05 2015-01-05  289        2776.0            NaN            10030.0\n",
            "2015-01-04 2015-01-04  288        2775.0            NaN             9780.0\n",
            "2015-01-03 2015-01-03  287        2769.0         8166.0             9722.0\n",
            "2015-01-02 2015-01-02  286           NaN         8157.0                NaN\n",
            "2014-12-31 2014-12-31  284        2730.0         8115.0             9633.0\n"
          ]
        }
      ]
    },
    {
      "cell_type": "markdown",
      "source": [
        "###시간 범위의 주기 설정하기\n",
        "시간 범위를 인덱스로 지정하면 DatetimeIndex 자료형이 만들어진다.\n",
        "Datetimeiindex에는 freq 속성이 포함되어 있다. freq속성값 지정 시 시간간격을 조절하여 DatetimeIndex를 만들 수 있다.\n",
        "\n",
        ">freq속성 값으로 사용할 수 있는 시간 주기\n",
        "- B:평일만 포함\n",
        "- C:사용자가 정의한 평일만 포함\n",
        "- D: 달력 일자 단위\n",
        "- W:주간 단위\n",
        "- M:월 마지막 날만 포함\n",
        "- SM:15일과 월 마지막 날만 포함\n",
        "- BM: M 주기의 값이 휴일이면 제외하고 평일만 포함\n",
        "- CBM: BM에 사용자 정의 평일을 적용\n",
        "- MS: 월 시작일만 포함\n",
        "- SMS:월 시작일과 15일만 포함\n",
        "- BMS:MS 주기의 값이 휴일이면 제외하고 평일만 포함\n",
        "- CBMS: BMS에 사용자 정의 평일을 적용\n",
        "- Q:3,6,9,12월 분기 마지막 날만 포함\n",
        "- BQ: 3,6,9,12월 분기 마지막 날이 휴일이면 제외하고 평일만 포함\n",
        "- QS: 3,6,9,12월 분기 시작일만 포함\n",
        "- BQS: 3,6,9,12월 분기 시작일이 휴일이면 제외하고 평일만 포함\n",
        "- A:년의 마지막 날만 포함\n",
        "- BA: 년의 마지막 날이 휴일이면 제외하고  평일만  포함\n",
        "- AS:년의 시작일만 포함\n",
        "- BAS:년의 시작일이 휴일이면 제외하고 평일만 포함\n",
        "- BH: 평일을 시간 단위로 포함(09:00~16:00)\n",
        "- H:시간 단위로 포함(00:00~00:00)\n",
        "- T:분 단위 포함\n",
        "- S: 초 단위 포함\n",
        "- L: 밀리초 단위 포함\n",
        "- U: 마이크로초 단위포함\n",
        "- N: 나노초 단위 포함"
      ],
      "metadata": {
        "id": "xS0RG1BVRhSX"
      }
    }
  ]
}